{
 "cells": [
  {
   "cell_type": "markdown",
   "metadata": {},
   "source": [
    "# Case Study Example: Food Truck Profits\n",
    "\n",
    "[SAAS Berkeley](https://saas.berkeley.edu/)\n",
    "\n",
    "Author: Carlos Gonzalez"
   ]
  },
  {
   "cell_type": "code",
   "execution_count": 44,
   "metadata": {},
   "outputs": [],
   "source": [
    "import pandas as pd\n",
    "import numpy as np\n",
    "import matplotlib.pyplot as plt\n",
    "%matplotlib inline"
   ]
  },
  {
   "cell_type": "markdown",
   "metadata": {},
   "source": [
    "Table of Contents:\n",
    "\n",
    "- Loading the Data\n",
    "- Cost Functions\n",
    "- Gradient Descent\n",
    "\n",
    "Packages:\n",
    "\n",
    "- `Pandas` to read our data\n",
    "- `Numpy` for matrix manipulation\n",
    "- `Matplotlib` for visualizations "
   ]
  },
  {
   "cell_type": "markdown",
   "metadata": {},
   "source": [
    "In this case study, we will explore how simple linear regression can be used to answer a real-world question: *how can we predict the profit a food truck would make in a particular city given the population of that city?* This is incredibly useful information for food truck owners, especially if they're aiming to maximize their profits. While many factors can affect the profitability of a food truck, we will focus on the relationship between population and profit and how we can use data to make predictions.\n",
    "\n",
    "We are given a dataset that contains information on the population and profit of various food trucks in different cities. This data will allow us to build a simple linear regression model, which will help us understand the relationship between population and profit and make predictions based on this relationship. We will use this model to predict the profit a food truck would make in a new city, where we have information about the population but not the actual profit.\n",
    "\n",
    "Connecting back to the real-world question, there is a basic solution to this problem involving linear regression to find the optimal values of the parameters (i.e., coefficients) that define the relationship between population and profit. Once we have these parameters, we can use them to make predictions about the profit a food truck would make in a given city. However, a key challenge is determining how to choose the best values for these parameters. How are we sure that the values we chose are optimal? We will be exploring this topic throughout this notebook via an interesting topic called **gradient descent**.\n",
    "\n",
    "We will be focusing on the theory behind the gradient descent algorithm and how it relates to linear regression. Today, wel will be using clean data to illustrate the key concepts and avoid getting bogged down in data cleaning and collection. This will help us understand the fundamentals of gradient descent and how it can be applied to real-world problems."
   ]
  },
  {
   "cell_type": "markdown",
   "metadata": {},
   "source": [
    "We recommend you have familiarity with Linear Regression before starting this notebook. To review, rhis is the statistical method used to model the relationship between the input (independent) variable(s) and the output (dependent) variable. In the case of simple linear regression, there is only one input variable, and the relationship is modeled with a straight line. Check the SAAS Data Science Repository for further information."
   ]
  },
  {
   "cell_type": "markdown",
   "metadata": {},
   "source": [
    "# Loading the Data"
   ]
  },
  {
   "cell_type": "markdown",
   "metadata": {},
   "source": [
    "As a first step, we will be performing linear regression with one variable to make a prediction on the output. In this case, we'll be looking at the population of a city to the profits of the food truck (in 10,000s, respectively)."
   ]
  },
  {
   "cell_type": "code",
   "execution_count": 3,
   "metadata": {},
   "outputs": [
    {
     "data": {
      "text/html": [
       "<div>\n",
       "<style scoped>\n",
       "    .dataframe tbody tr th:only-of-type {\n",
       "        vertical-align: middle;\n",
       "    }\n",
       "\n",
       "    .dataframe tbody tr th {\n",
       "        vertical-align: top;\n",
       "    }\n",
       "\n",
       "    .dataframe thead th {\n",
       "        text-align: right;\n",
       "    }\n",
       "</style>\n",
       "<table border=\"1\" class=\"dataframe\">\n",
       "  <thead>\n",
       "    <tr style=\"text-align: right;\">\n",
       "      <th></th>\n",
       "      <th>population</th>\n",
       "      <th>profit</th>\n",
       "    </tr>\n",
       "  </thead>\n",
       "  <tbody>\n",
       "    <tr>\n",
       "      <th>0</th>\n",
       "      <td>6.1101</td>\n",
       "      <td>17.5920</td>\n",
       "    </tr>\n",
       "    <tr>\n",
       "      <th>1</th>\n",
       "      <td>5.5277</td>\n",
       "      <td>9.1302</td>\n",
       "    </tr>\n",
       "    <tr>\n",
       "      <th>2</th>\n",
       "      <td>8.5186</td>\n",
       "      <td>13.6620</td>\n",
       "    </tr>\n",
       "    <tr>\n",
       "      <th>3</th>\n",
       "      <td>7.0032</td>\n",
       "      <td>11.8540</td>\n",
       "    </tr>\n",
       "    <tr>\n",
       "      <th>4</th>\n",
       "      <td>5.8598</td>\n",
       "      <td>6.8233</td>\n",
       "    </tr>\n",
       "  </tbody>\n",
       "</table>\n",
       "</div>"
      ],
      "text/plain": [
       "   population   profit\n",
       "0      6.1101  17.5920\n",
       "1      5.5277   9.1302\n",
       "2      8.5186  13.6620\n",
       "3      7.0032  11.8540\n",
       "4      5.8598   6.8233"
      ]
     },
     "execution_count": 3,
     "metadata": {},
     "output_type": "execute_result"
    }
   ],
   "source": [
    "data = pd.read_csv('gradient.txt', names = ['population', 'profit'])\n",
    "data.head()"
   ]
  },
  {
   "cell_type": "code",
   "execution_count": 31,
   "metadata": {},
   "outputs": [],
   "source": [
    "## Split population and profit into X and y\n",
    "X_df = pd.DataFrame(data[\"population\"])\n",
    "y_df = pd.DataFrame(data[\"profit\"])\n",
    "\n",
    "## Length, or number of observations, in our data\n",
    "l = len(y_df)"
   ]
  },
  {
   "cell_type": "code",
   "execution_count": 32,
   "metadata": {},
   "outputs": [
    {
     "data": {
      "text/plain": [
       "[<matplotlib.lines.Line2D at 0x7f86060c2e80>]"
      ]
     },
     "execution_count": 32,
     "metadata": {},
     "output_type": "execute_result"
    },
    {
     "data": {
      "image/png": "[encoded data removed]",
      "text/plain": [
       "<Figure size 720x576 with 1 Axes>"
      ]
     },
     "metadata": {
      "needs_background": "light"
     },
     "output_type": "display_data"
    }
   ],
   "source": [
    "plt.figure(figsize=(10,8))\n",
    "plt.plot(X_df[\"population\"], y_df[\"profit\"], 'kx')"
   ]
  },
  {
   "cell_type": "markdown",
   "metadata": {},
   "source": [
    "To recap, the idea of linear regression is to **find a relationship between our target or dependent variable (y) and a set of explanatory variables $(x_1, x_2$ ... $x_n)$.** This relatonship can then be used to predict other values.\n",
    "\n",
    "In our case with one variable, this relationship is a line defined by parameters $\\beta$ and the following form: $y = \\beta_{0} + \\beta_{1}x$, where $\\beta_{0}$ is our intercept.\n",
    "\n",
    "This can be extended to multivariable regression by extending the equation in vector form: $y = X \\beta$\n",
    "\n",
    "So how do we make the line of best fit? Run the cell below. In this figure, there are many possible lines. Are you able to determine which one is the best?"
   ]
  },
  {
   "cell_type": "code",
   "execution_count": 33,
   "metadata": {},
   "outputs": [
    {
     "data": {
      "text/plain": [
       "Text(0, 0.5, 'Profit in $10,000s')"
      ]
     },
     "execution_count": 33,
     "metadata": {},
     "output_type": "execute_result"
    },
    {
     "data": {
      "image/png": "[encoded data removed]",
      "text/plain": [
       "<Figure size 720x576 with 1 Axes>"
      ]
     },
     "metadata": {
      "needs_background": "light"
     },
     "output_type": "display_data"
    }
   ],
   "source": [
    "##plotting the data\n",
    "plt.figure(figsize=(10,8))\n",
    "plt.plot(X_df[\"population\"], y_df[\"profit\"], 'k.')\n",
    "\n",
    "##possible lines of fit\n",
    "plt.plot([5, 22], [6,6], '-')\n",
    "plt.plot([5, 22], [0,20], '-')\n",
    "plt.plot([5, 15], [-5,25], '-')\n",
    "\n",
    "##labels\n",
    "plt.xlabel('Population of City in 10,000s')\n",
    "plt.ylabel('Profit in $10,000s')"
   ]
  },
  {
   "cell_type": "markdown",
   "metadata": {},
   "source": [
    "# Cost Functions"
   ]
  },
  {
   "cell_type": "markdown",
   "metadata": {},
   "source": [
    "It turns out that to make the best line to model the data, we want to pick parameters $\\beta$ that allows our predicted value to be as close to the actual value as possible. In other words, we want the distance or residual between our hypothesis $h(x)$ and y to be minimized.\n",
    "\n",
    "\n",
    "So we formally define a cost function using ordinary least squares that is simply the sum of the squared distances. To find the liner regression line, we minimize:\n"
   ]
  },
  {
   "cell_type": "markdown",
   "metadata": {},
   "source": [
    "$$C(\\beta) = \\frac{1}{2m}\\sum^{m}_{i = 1}(h_{\\beta}(x^i)-y^i)^2$$"
   ]
  },
  {
   "cell_type": "markdown",
   "metadata": {},
   "source": [
    "Once again, the hypothesis that we're trying to find is given by the linear model:\n",
    "\n",
    "$$h_{\\beta}(x) = \\beta^{T}x = \\beta_{0} + \\beta_{1}x_{1}$$"
   ]
  },
  {
   "cell_type": "markdown",
   "metadata": {},
   "source": [
    "The parameters of the model are the beta values. We adjust $\\beta_{c}$ to minimize the cost function $C(\\beta)$."
   ]
  },
  {
   "cell_type": "markdown",
   "metadata": {},
   "source": [
    "And we can use batch gradient descent where each iteration performs the update\n",
    "\n",
    "$$\\beta_{c} := \\beta_{c} - \\alpha\\frac{1}{m}\\sum^{m}_{i = 1}h_{\\beta}(x^i)-y^i)x^{i}_{c}$$"
   ]
  },
  {
   "cell_type": "markdown",
   "metadata": {},
   "source": [
    "This is the idea behind our topic of discussion today: gradient descent.\n",
    "\n",
    "Gradient Descent is an optimization algorithm that iteratively adjusts the values of the coefficients in the direction of steepest descent of the cost function until the cost function is minimized. The direction of steepest descent is given by the negative gradient of the cost function with respect to the coefficients. The magnitude of the adjustment at each iteration is controlled by the learning rate. Connecting to our specific example of simple linear regresison, we're aiming to find the optimal values of the coefficients that minimize the difference between the predicted profits for the food truck and actual values of the output variable.\n",
    "\n",
    "Gradient descent is merely an algorithm that makes small steps along a function to find a local minimum. We can look at a simply quadratic equation such as this one:And we can use batch gradient descent where each iteration performs the update\n"
   ]
  },
  {
   "cell_type": "code",
   "execution_count": 54,
   "metadata": {},
   "outputs": [],
   "source": [
    "x_quad = [n/10 for n in range(0, 100)]\n",
    "y_quad = [(n-4)**2+5 for n in x_quad]\n",
    "\n",
    "#basic quadratic"
   ]
  },
  {
   "cell_type": "code",
   "execution_count": 55,
   "metadata": {},
   "outputs": [
    {
     "data": {
      "text/plain": [
       "Text(0.5, 1.0, 'Quadratic Equation')"
      ]
     },
     "execution_count": 55,
     "metadata": {},
     "output_type": "execute_result"
    },
    {
     "data": {
      "image/png": "[encoded data removed]",
      "text/plain": [
       "<Figure size 720x504 with 1 Axes>"
      ]
     },
     "metadata": {
      "needs_background": "light"
     },
     "output_type": "display_data"
    }
   ],
   "source": [
    "plt.figure(figsize = (10,7))\n",
    "plt.plot(x_quad, y_quad, 'k--') #dashed lines\n",
    "plt.axis([0,10,0,30])\n",
    "plt.plot([1, 2, 3], [14, 9, 6], 'ro') #red dots at given intervals\n",
    "plt.plot([5, 7, 8],[6, 14, 21], 'bo') #blue ...\n",
    "plt.plot(4, 5, 'ko') #minimizer\n",
    "plt.xlabel('x')\n",
    "plt.ylabel('f(x)')\n",
    "plt.title('Quadratic Equation')"
   ]
  },
  {
   "cell_type": "markdown",
   "metadata": {},
   "source": [
    "We're trying to find the local minimum on this function. If we start at the first red dot at $x = 2$, we find the gradient and we move against it. In this case, the gradient is the slope. And since the slope is negative, our next attempt is further to the right. Thus bringing us closer to the minimum.\n",
    "\n",
    "Indeed, we keep updating our parameter beta to get us closer and closer to the minumum."
   ]
  },
  {
   "cell_type": "markdown",
   "metadata": {},
   "source": [
    "$$\\beta_{c} := \\beta_{c} - \\alpha\\frac{\\partial }{\\partial \\beta_{c}}C(\\beta)$$"
   ]
  },
  {
   "cell_type": "markdown",
   "metadata": {},
   "source": [
    "Where $\\alpha$ is our learning rate, and $C(\\beta)$ is our cost function. By adjusting $\\alpha$, we can change how quickly we converge on the minimum value.\n",
    "\n",
    "Why would that matter? Well, we run the risk of overshooting our goal and thus will not converge at the minimum."
   ]
  },
  {
   "cell_type": "markdown",
   "metadata": {},
   "source": [
    "The homework that you will be assigned this week will go over conceptually how to derive these equations, but lets explore how to implement this in Python for now.\n",
    "\n",
    "We first need to declare some parameters. Let's define our learning rate as `alpha` and our iterations as `iterations`. We want to define how many times we perform a particular update."
   ]
  },
  {
   "cell_type": "code",
   "execution_count": 36,
   "metadata": {},
   "outputs": [],
   "source": [
    "iterations = 2000\n",
    "alpha = 0.01"
   ]
  },
  {
   "cell_type": "markdown",
   "metadata": {},
   "source": [
    "Next, we are going to transform our data frame into an array to perform some matrix multiplication. We will do this by writing out a helper function to calculate the cost function (see above). We will accomplish this step using `np.dot`."
   ]
  },
  {
   "cell_type": "code",
   "execution_count": 37,
   "metadata": {},
   "outputs": [],
   "source": [
    "##Add another column for X, which will serve as our intercept\n",
    "X_df[\"intercept\"] = 1\n",
    "\n",
    "##Transform our two dataframes ,X and y, into arrays, and initialize our parameter theta to 0.\n",
    "X = np.array(X_df)\n",
    "y = np.array(y_df).flatten()\n",
    "theta = np.array([0,0])"
   ]
  },
  {
   "cell_type": "code",
   "execution_count": 38,
   "metadata": {},
   "outputs": [],
   "source": [
    "def cost_function(X, y, theta):\n",
    "    '''\n",
    "    compute the cost of using theta as the parameter for linear regression to\n",
    "    fit the data points into X and y.\n",
    "    '''\n",
    "    \n",
    "    ##get the number of training examples\n",
    "    l = len(y)\n",
    "    \n",
    "    ##calculate the cost with the given parameters\n",
    "    C = np.sum((X.dot(theta) - y)**2)/2/m\n",
    "    return C"
   ]
  },
  {
   "cell_type": "markdown",
   "metadata": {},
   "source": [
    "This cost function will calculate the sum of squared errors (SSE) between the predicted and actual values of the output variable given the input variable and the current coefficients (theta)"
   ]
  },
  {
   "cell_type": "code",
   "execution_count": 39,
   "metadata": {},
   "outputs": [
    {
     "data": {
      "text/plain": [
       "32.072733877455676"
      ]
     },
     "execution_count": 39,
     "metadata": {},
     "output_type": "execute_result"
    }
   ],
   "source": [
    "cost_function(X, y, theta)"
   ]
  },
  {
   "cell_type": "markdown",
   "metadata": {},
   "source": [
    "Let us split the algorithm into four different parts to see what exactly is going on."
   ]
  },
  {
   "cell_type": "code",
   "execution_count": 40,
   "metadata": {},
   "outputs": [],
   "source": [
    "def gradient_descent(X, y, theta, alpha, iterations):\n",
    "    '''\n",
    "    perform the gradient descent algorithm to learn the optimal value for theta\n",
    "    theta = gradient_descent(X, y, theta, iterations - i)\n",
    "    where theta gets updates by taking iterations - i gradient steps given the learning rate alpha\n",
    "    '''\n",
    "    \n",
    "    final_cost = [0]*iterations\n",
    "    \n",
    "    for iteration in range(iterations):\n",
    "        hypothesis = X.dot(theta)\n",
    "        loss = hypothesis - y\n",
    "        gradient = X.T.dot(loss) / m\n",
    "        theta = theta - alpha*gradient\n",
    "        cost = cost_function(X, y, theta)\n",
    "        final_cost[iteration] = cost\n",
    "        \n",
    "    return theta, final_cost"
   ]
  },
  {
   "cell_type": "code",
   "execution_count": 41,
   "metadata": {},
   "outputs": [
    {
     "name": "stdout",
     "output_type": "stream",
     "text": [
      "[ 1.18221277 -3.78806857] theta parameters\n",
      "0.349676138927709 4.487420850578528 predictions\n"
     ]
    }
   ],
   "source": [
    "(t, c) = gradient_descent(X, y, theta, alpha, iterations)\n",
    "\n",
    "\n",
    "print(t, \"theta parameters\")\n",
    "print(np.array([3.5, 1]).dot(t), np.array([7, 1]).dot(t), \"predictions\")"
   ]
  },
  {
   "cell_type": "code",
   "execution_count": 42,
   "metadata": {},
   "outputs": [],
   "source": [
    "#plot best fit line\n",
    "\n",
    "best_fit_x = np.linspace(0, 25, 20)\n",
    "best_fit_y = [t[1] + t[0]*x for x in best_fit_x]"
   ]
  },
  {
   "cell_type": "code",
   "execution_count": 43,
   "metadata": {},
   "outputs": [
    {
     "data": {
      "text/plain": [
       "Text(0.5, 1.0, 'Profit vs Population With Linear Regression Line of Best Fit')"
      ]
     },
     "execution_count": 43,
     "metadata": {},
     "output_type": "execute_result"
    },
    {
     "data": {
      "image/png": "[encoded data removed]",
      "text/plain": [
       "<Figure size 720x432 with 1 Axes>"
      ]
     },
     "metadata": {
      "needs_background": "light"
     },
     "output_type": "display_data"
    }
   ],
   "source": [
    "plt.figure(figsize = (10, 6))\n",
    "plt.plot(X_df[\"population\"], y_df[\"profit\"], \".\")\n",
    "plt.plot(best_fit_x, best_fit_y, \"-\")\n",
    "plt.axis([0, 25, -5, 25])\n",
    "plt.xlabel(\"Population of City (in 10,000s)\")\n",
    "plt.ylabel(\"Profit (in 10,000s)\")\n",
    "plt.title(\"Profit vs Population With Linear Regression Line of Best Fit\")"
   ]
  },
  {
   "cell_type": "markdown",
   "metadata": {},
   "source": [
    "We did a lot today. We started with a real-world problem of predicting the profit a food truck would make in a particular city, given information on the population of that city; we explored the use of linear regression as a way to model the relationship between population and profit and make predictions based on this relationship; we built a linear regression model using the data on population and profit of various food trucks in different cities, and used this model to predict the profit a food truck would make in a new city; we explored the use of gradient descent as an optimization algorithm to help us find the best values for these parameters by iteratively adjusting them until we reach the optimal solution; we optimized our parameter theta to yield the best results!"
   ]
  },
  {
   "cell_type": "markdown",
   "metadata": {},
   "source": [
    "Great job on finishing this notebook!"
   ]
  },
  {
   "cell_type": "code",
   "execution_count": null,
   "metadata": {},
   "outputs": [],
   "source": []
  }
 ],
 "metadata": {
  "kernelspec": {
   "display_name": "Python 3 (ipykernel)",
   "language": "python",
   "name": "python3"
  },
  "language_info": {
   "codemirror_mode": {
    "name": "ipython",
    "version": 3
   },
   "file_extension": ".py",
   "mimetype": "text/x-python",
   "name": "python",
   "nbconvert_exporter": "python",
   "pygments_lexer": "ipython3",
   "version": "3.9.12"
  }
 },
 "nbformat": 4,
 "nbformat_minor": 4
}
