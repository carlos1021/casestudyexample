{
 "cells": [
  {
   "cell_type": "markdown",
   "id": "15d81fe7-163e-4cde-8093-09fb64feee91",
   "metadata": {},
   "source": [
    "# Case Study: Countrywide Traffic Accidents\n",
    "\n",
    "## Topics to be used (TBA)\n",
    "\n",
    "SAAS Berkeley\n",
    "\n",
    "Made by Carlos Gonzalez"
   ]
  },
  {
   "cell_type": "markdown",
   "id": "b92d855a-bee3-4671-99c4-816d50db17a3",
   "metadata": {},
   "source": [
    "The dataset is adapted from [Sobhan Moosavi](https://smoosavi.org/). Much of this case study is inspired from [this paper](https://arxiv.org/abs/1909.09638)--it's a very interesting read."
   ]
  },
  {
   "cell_type": "code",
   "execution_count": null,
   "id": "3331786c-1cb4-4627-b6f3-3b5156059128",
   "metadata": {},
   "outputs": [],
   "source": []
  }
 ],
 "metadata": {
  "kernelspec": {
   "display_name": "Python 3 (ipykernel)",
   "language": "python",
   "name": "python3"
  },
  "language_info": {
   "codemirror_mode": {
    "name": "ipython",
    "version": 3
   },
   "file_extension": ".py",
   "mimetype": "text/x-python",
   "name": "python",
   "nbconvert_exporter": "python",
   "pygments_lexer": "ipython3",
   "version": "3.10.8"
  }
 },
 "nbformat": 4,
 "nbformat_minor": 5
}
